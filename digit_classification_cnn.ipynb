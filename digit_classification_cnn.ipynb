{
 "cells": [
  {
   "cell_type": "code",
   "execution_count": 13,
   "metadata": {},
   "outputs": [],
   "source": [
    "### CNN Convolutional nuenal network\n",
    "from keras.datasets import mnist\n",
    "from keras.models import Sequential\n",
    "from keras.layers import Flatten, Dropout, Dense\n",
    "from keras.layers.convolutional import Conv2D, MaxPooling2D\n",
    "from keras.utils import np_utils\n",
    "from keras import backend as k\n",
    "k.set_image_dim_ordering('th')\n",
    "\n",
    "import numpy as np"
   ]
  },
  {
   "cell_type": "code",
   "execution_count": 14,
   "metadata": {},
   "outputs": [],
   "source": [
    "seed = 7\n",
    "np.random.seed(seed)"
   ]
  },
  {
   "cell_type": "code",
   "execution_count": 15,
   "metadata": {},
   "outputs": [],
   "source": [
    "# Load data\n",
    "\n",
    "(data_X_train, data_y_train), (data_X_test, data_y_test) = mnist.load_data()\n",
    "X_train, y_train , X_test, y_test  = data_X_train, data_y_train , data_X_test, data_y_test"
   ]
  },
  {
   "cell_type": "code",
   "execution_count": 16,
   "metadata": {},
   "outputs": [],
   "source": [
    "X_train = X_train.reshape(X_train.shape[0],1,28,28).astype('float32')\n",
    "X_test = X_test.reshape(X_test.shape[0],1,28,28).astype('float32')"
   ]
  },
  {
   "cell_type": "code",
   "execution_count": 17,
   "metadata": {},
   "outputs": [
    {
     "data": {
      "text/plain": [
       "10"
      ]
     },
     "execution_count": 17,
     "metadata": {},
     "output_type": "execute_result"
    }
   ],
   "source": [
    "# Normalization and encoding\n",
    "X_train = X_train / 255\n",
    "X_test = X_test / 255\n",
    "\n",
    "y_train = np_utils.to_categorical(y_train)\n",
    "y_test = np_utils.to_categorical(y_test)\n",
    "num_calsses = y_test.shape[1]\n",
    "num_calsses"
   ]
  },
  {
   "cell_type": "code",
   "execution_count": 25,
   "metadata": {},
   "outputs": [],
   "source": [
    "def baseline_model ():\n",
    "    model = Sequential()\n",
    "    model.add(Conv2D(32, (5,5), input_shape = (1,28,28), activation= 'relu'))\n",
    "    model.add(MaxPooling2D(pool_size=(2,2)))\n",
    "    model.add(Dropout(0.2))\n",
    "    model.add(Flatten())\n",
    "    model.add(Dense(128, activation= 'relu'))\n",
    "    model.add(Dense(num_calsses, activation= 'softmax'))\n",
    "    model.compile(loss = 'categorical_crossentropy', optimizer = 'adam', metrics=['accuracy'])\n",
    "    return model"
   ]
  },
  {
   "cell_type": "code",
   "execution_count": 26,
   "metadata": {},
   "outputs": [
    {
     "data": {
      "text/plain": [
       "<keras.engine.sequential.Sequential at 0x1caaba7e160>"
      ]
     },
     "execution_count": 26,
     "metadata": {},
     "output_type": "execute_result"
    }
   ],
   "source": [
    "baseline_model()"
   ]
  },
  {
   "cell_type": "code",
   "execution_count": 27,
   "metadata": {},
   "outputs": [
    {
     "name": "stdout",
     "output_type": "stream",
     "text": [
      "Train on 60000 samples, validate on 10000 samples\n",
      "Epoch 1/10\n",
      " - 185s - loss: 0.2375 - acc: 0.9321 - val_loss: 0.0766 - val_acc: 0.9767\n",
      "Epoch 2/10\n",
      " - 186s - loss: 0.0708 - acc: 0.9787 - val_loss: 0.0456 - val_acc: 0.9856\n",
      "Epoch 3/10\n",
      " - 187s - loss: 0.0500 - acc: 0.9849 - val_loss: 0.0433 - val_acc: 0.9864\n",
      "Epoch 4/10\n",
      " - 189s - loss: 0.0413 - acc: 0.9871 - val_loss: 0.0412 - val_acc: 0.9863\n",
      "Epoch 5/10\n",
      " - 181s - loss: 0.0338 - acc: 0.9893 - val_loss: 0.0420 - val_acc: 0.9861\n",
      "Epoch 6/10\n",
      " - 181s - loss: 0.0267 - acc: 0.9918 - val_loss: 0.0362 - val_acc: 0.9889\n",
      "Epoch 7/10\n",
      " - 181s - loss: 0.0220 - acc: 0.9931 - val_loss: 0.0351 - val_acc: 0.9883\n",
      "Epoch 8/10\n",
      " - 216s - loss: 0.0200 - acc: 0.9935 - val_loss: 0.0323 - val_acc: 0.9897\n",
      "Epoch 9/10\n",
      " - 228s - loss: 0.0172 - acc: 0.9944 - val_loss: 0.0395 - val_acc: 0.9869\n",
      "Epoch 10/10\n",
      " - 213s - loss: 0.0150 - acc: 0.9951 - val_loss: 0.0376 - val_acc: 0.9875\n"
     ]
    },
    {
     "data": {
      "text/plain": [
       "<keras.callbacks.History at 0x1caabb85668>"
      ]
     },
     "execution_count": 27,
     "metadata": {},
     "output_type": "execute_result"
    }
   ],
   "source": [
    "model = baseline_model()\n",
    "model.fit(X_train, y_train, validation_data=(X_test, y_test), epochs=10, batch_size=200, verbose=2)\n"
   ]
  },
  {
   "cell_type": "code",
   "execution_count": 28,
   "metadata": {},
   "outputs": [
    {
     "data": {
      "text/plain": [
       "5"
      ]
     },
     "execution_count": 28,
     "metadata": {},
     "output_type": "execute_result"
    }
   ],
   "source": [
    "data_y_train[0]"
   ]
  },
  {
   "cell_type": "code",
   "execution_count": 34,
   "metadata": {},
   "outputs": [
    {
     "name": "stdout",
     "output_type": "stream",
     "text": [
      "5\n"
     ]
    }
   ],
   "source": [
    "X_5 = data_X_train[0].reshape(1,1,28,28)\n",
    "y_5 = model.predict(X_5)\n",
    "print(np.argmax(y_5))"
   ]
  },
  {
   "cell_type": "code",
   "execution_count": 39,
   "metadata": {},
   "outputs": [
    {
     "data": {
      "image/png": "[encoded data removed]",
      "text/plain": [
       "<Figure size 432x288 with 1 Axes>"
      ]
     },
     "metadata": {},
     "output_type": "display_data"
    }
   ],
   "source": [
    "import matplotlib.pyplot as plt\n",
    "plt.imshow(data_X_train[0].reshape(28,28))\n",
    "plt.ylabel(np.argmax(y_5))\n",
    "plt.show()"
   ]
  },
  {
   "cell_type": "code",
   "execution_count": null,
   "metadata": {},
   "outputs": [],
   "source": []
  }
 ],
 "metadata": {
  "kernelspec": {
   "display_name": "Python 3",
   "language": "python",
   "name": "python3"
  },
  "language_info": {
   "codemirror_mode": {
    "name": "ipython",
    "version": 3
   },
   "file_extension": ".py",
   "mimetype": "text/x-python",
   "name": "python",
   "nbconvert_exporter": "python",
   "pygments_lexer": "ipython3",
   "version": "3.6.5"
  }
 },
 "nbformat": 4,
 "nbformat_minor": 2
}
